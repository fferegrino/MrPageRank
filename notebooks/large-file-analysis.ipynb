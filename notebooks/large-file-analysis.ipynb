{
 "cells": [
  {
   "cell_type": "code",
   "execution_count": null,
   "metadata": {
    "collapsed": true
   },
   "outputs": [],
   "source": [
    "import pandas as pd\n",
    "import numpy as np\n",
    "from glob import glob as g\n",
    "import matplotlib.pyplot as plt"
   ]
  },
  {
   "cell_type": "code",
   "execution_count": null,
   "metadata": {
    "collapsed": true
   },
   "outputs": [],
   "source": [
    "PageRankResults_list = []\n",
    "names = []\n",
    "for results_file in sorted(g(\"LargePageRankResults_*.txt\")):\n",
    "    name = \"pr_\" + results_file[len(\"LargePageRankResults_\"):-4]\n",
    "    PageRankResults = pd.read_table(results_file, sep=' |\\t', engine='python', \n",
    "                                    quoting=3, na_values='', na_filter=False,\n",
    "                                    header=None, names=[\"article\", name])\n",
    "    PageRankResults.set_index(\"article\", inplace=True)\n",
    "    PageRankResults_list.append(PageRankResults)"
   ]
  },
  {
   "cell_type": "code",
   "execution_count": null,
   "metadata": {},
   "outputs": [],
   "source": [
    "PageRankResults = PageRankResults_list[0]\n",
    "for df_ in PageRankResults_list[1:]:\n",
    "    PageRankResults = PageRankResults.join(df_, how='outer')\n",
    "\n",
    "PageRankResults.tail(60)"
   ]
  }
 ],
 "metadata": {
  "kernelspec": {
   "display_name": "Python 3",
   "language": "python",
   "name": "python3"
  },
  "language_info": {
   "codemirror_mode": {
    "name": "ipython",
    "version": 3
   },
   "file_extension": ".py",
   "mimetype": "text/x-python",
   "name": "python",
   "nbconvert_exporter": "python",
   "pygments_lexer": "ipython3",
   "version": "3.6.1"
  }
 },
 "nbformat": 4,
 "nbformat_minor": 2
}
