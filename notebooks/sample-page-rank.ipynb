{
 "cells": [
  {
   "cell_type": "code",
   "execution_count": null,
   "metadata": {
    "collapsed": true
   },
   "outputs": [],
   "source": [
    "class PageRank:\n",
    "    def __init__(self, pages, d=0.85, initial_guess=1.0):\n",
    "        \"\"\"\n",
    "        :param pages: A graph of pages represented as linked lists\n",
    "        :param d: The dampening factor\n",
    "        :param initial_guess: The initial value for page rank\n",
    "        \"\"\"\n",
    "        self.d = d\n",
    "        self.pages = pages\n",
    "        self.inverse_pages = {}\n",
    "        self.outlinks = {}\n",
    "        self.inlinks = {}\n",
    "        self.pr = {}\n",
    "        self.all_pages = set()\n",
    "\n",
    "        for page in pages:\n",
    "            self.outlinks[page] = len(pages[page])\n",
    "            self.all_pages.add(page)\n",
    "            for out in pages[page]:\n",
    "                self.all_pages.add(out)\n",
    "                self.inlinks[out] = self.inlinks.get(out, 0) + 1\n",
    "\n",
    "                if out not in self.inverse_pages:\n",
    "                    self.inverse_pages[out] = []\n",
    "                self.inverse_pages[out].append(page)\n",
    "\n",
    "        for page in self.all_pages:\n",
    "            self.pr[page] = initial_guess\n",
    "\n",
    "    def calculate(self, iters, report=False, report_every=1, rep_function=None):\n",
    "        \"\"\"\n",
    "        Calculates the page rank of the given page graph\n",
    "        :param iters: Number of iterations\n",
    "        :param report: Wether you want the code to report every iteration to the console\n",
    "        :return:\n",
    "        \"\"\"\n",
    "        for i in range(1, iters+1):\n",
    "            pr_copy = dict(self.pr)\n",
    "            for page in self.pr:\n",
    "                self.pr[page] = 1 - self.d\n",
    "                mid = 0\n",
    "                if page in self.inverse_pages:\n",
    "                    for page_linked in self.inverse_pages[page]:\n",
    "                        mid += pr_copy[page_linked] / self.outlinks[page_linked]\n",
    "                self.pr[page] += mid * self.d\n",
    "            if report:\n",
    "                if i % report_every == 0:\n",
    "                    if rep_function is not None:\n",
    "                        rep_function(i, self.pr)\n",
    "                    else:\n",
    "                        print(\"Iteration %d\" % i)\n",
    "                        print(self.pr)\n",
    "\n",
    "    def get_avg(self):\n",
    "        d = 0\n",
    "        for p in self.pr:\n",
    "            d += self.pr[p]\n",
    "        return d / len(self.pr)\n",
    "    \n",
    "# A small reporting function\n",
    "def report(iteration, page_rank):\n",
    "    print(\"Iteration %d\" % iteration)\n",
    "    for page in page_rank:\n",
    "        print(\"\\t%s: %0.6f\" % (page, page_rank[page]))"
   ]
  },
  {
   "cell_type": "code",
   "execution_count": null,
   "metadata": {
    "collapsed": true
   },
   "outputs": [],
   "source": [
    "import re\n",
    "\n",
    "nodes = {}\n",
    "revisions = {}\n",
    "currentRevision = 0\n",
    "parent = ''\n",
    "with open(\"enwiki-20080103-sample.txt\", \"r\") as wikiinput:\n",
    "    i = 0\n",
    "    for l in wikiinput.readlines():\n",
    "        i += 1;\n",
    "        i = i % 14;\n",
    "        if i == 1:\n",
    "            values = l.split(' ')\n",
    "            parent = values[3]\n",
    "            currentRevision = int(values[2].strip())\n",
    "        if i == 4:\n",
    "            outlinks = l[4:].strip()\n",
    "            if currentRevision >= revisions.get(parent, 0):\n",
    "                revisions[parent] = currentRevision\n",
    "                out = []\n",
    "                if outlinks != '':\n",
    "                    out = re.split(\"[ |\\t]\", outlinks)\n",
    "                nodes[parent] = out"
   ]
  },
  {
   "cell_type": "code",
   "execution_count": null,
   "metadata": {
    "collapsed": true
   },
   "outputs": [],
   "source": [
    "import json\n",
    "with open(\"nodes.json\", \"w\") as nodes_file:\n",
    "    json.dump(nodes, nodes_file, sort_keys=True, indent=4)"
   ]
  },
  {
   "cell_type": "code",
   "execution_count": null,
   "metadata": {
    "collapsed": true
   },
   "outputs": [],
   "source": [
    "pr = PageRank(nodes)\n",
    "pr.calculate(20, report=False, report_every=10, rep_function=report)"
   ]
  },
  {
   "cell_type": "code",
   "execution_count": null,
   "metadata": {
    "collapsed": true
   },
   "outputs": [],
   "source": [
    "with open(\"PageRankResults_round0.txt\", \"w\") as results:\n",
    "    sortedk = sorted(pr.pr.keys())\n",
    "    for key in sortedk:\n",
    "        results.write(key + \" \" + str(pr.pr[key]) + \"\\n\")"
   ]
  }
 ],
 "metadata": {
  "kernelspec": {
   "display_name": "Python 3",
   "language": "python",
   "name": "python3"
  },
  "language_info": {
   "codemirror_mode": {
    "name": "ipython",
    "version": 3
   },
   "file_extension": ".py",
   "mimetype": "text/x-python",
   "name": "python",
   "nbconvert_exporter": "python",
   "pygments_lexer": "ipython3",
   "version": "3.6.1"
  }
 },
 "nbformat": 4,
 "nbformat_minor": 2
}
