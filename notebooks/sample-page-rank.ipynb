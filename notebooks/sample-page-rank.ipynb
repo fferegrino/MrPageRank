{
 "cells": [
  {
   "cell_type": "code",
   "execution_count": 10,
   "metadata": {
    "collapsed": true
   },
   "outputs": [],
   "source": [
    "class PageRank:\n",
    "    def __init__(self, pages, d=0.85, initial_guess=1.0):\n",
    "        \"\"\"\n",
    "        :param pages: A graph of pages represented as linked lists\n",
    "        :param d: The dampening factor\n",
    "        :param initial_guess: The initial value for page rank\n",
    "        \"\"\"\n",
    "        self.d = d\n",
    "        self.pages = pages\n",
    "        self.inverse_pages = {}\n",
    "        self.outlinks = {}\n",
    "        self.inlinks = {}\n",
    "        self.pr = {}\n",
    "        self.all_pages = set()\n",
    "\n",
    "        for page in pages:\n",
    "            self.outlinks[page] = len(pages[page])\n",
    "            self.all_pages.add(page)\n",
    "            for out in pages[page]:\n",
    "                self.all_pages.add(out)\n",
    "                self.inlinks[out] = self.inlinks.get(out, 0) + 1\n",
    "\n",
    "                if out not in self.inverse_pages:\n",
    "                    self.inverse_pages[out] = []\n",
    "                self.inverse_pages[out].append(page)\n",
    "\n",
    "        for page in self.all_pages:\n",
    "            self.pr[page] = initial_guess\n",
    "\n",
    "    def calculate(self, iters, report=False, report_every=1, rep_function=None):\n",
    "        \"\"\"\n",
    "        Calculates the page rank of the given page graph\n",
    "        :param iters: Number of iterations\n",
    "        :param report: Wether you want the code to report every iteration to the console\n",
    "        :return:\n",
    "        \"\"\"\n",
    "        for i in range(1, iters+1):\n",
    "            pr_copy = dict(self.pr)\n",
    "            for page in self.pr:\n",
    "                self.pr[page] = 1 - self.d\n",
    "                mid = 0\n",
    "                if page in self.inverse_pages:\n",
    "                    for page_linked in self.inverse_pages[page]:\n",
    "                        mid += pr_copy[page_linked] / self.outlinks[page_linked]\n",
    "                self.pr[page] += mid * self.d\n",
    "            if report:\n",
    "                if i % report_every == 0:\n",
    "                    if rep_function is not None:\n",
    "                        rep_function(i, self.pr)\n",
    "                    else:\n",
    "                        print(\"Iteration %d\" % i)\n",
    "                        print(self.pr)\n",
    "\n",
    "    def get_avg(self):\n",
    "        d = 0\n",
    "        for p in self.pr:\n",
    "            d += self.pr[p]\n",
    "        return d / len(self.pr)\n",
    "    \n",
    "# A small reporting function\n",
    "def report(iteration, page_rank):\n",
    "    print(\"Iteration %d\" % iteration)\n",
    "    for page in page_rank:\n",
    "        print(\"\\t%s: %0.6f\" % (page, page_rank[page]))"
   ]
  },
  {
   "cell_type": "code",
   "execution_count": 12,
   "metadata": {},
   "outputs": [],
   "source": [
    "import re\n",
    "\n",
    "nodes = {}\n",
    "revisions = {}\n",
    "currentRevision = 0\n",
    "parent = ''\n",
    "with open(\"/Users/fferegrino/Downloads/enwiki-20080103-sample.txt\", \"r\") as wikiinput:\n",
    "    i = 0\n",
    "    for l in wikiinput.readlines():\n",
    "        i += 1;\n",
    "        i = i % 14;\n",
    "        if i == 1:\n",
    "            values = l.split(' ')\n",
    "            parent = values[3]\n",
    "            currentRevision = int(values[2].strip())\n",
    "        if i == 4:\n",
    "            outlinks = l[4:].strip()\n",
    "            if currentRevision >= revisions.get(parent, 0):\n",
    "                revisions[parent] = currentRevision\n",
    "                out = []\n",
    "                if outlinks != '':\n",
    "                    out = re.split(\"[ |\\t]\", outlinks)\n",
    "                nodes[parent] = out"
   ]
  },
  {
   "cell_type": "code",
   "execution_count": 13,
   "metadata": {
    "collapsed": true
   },
   "outputs": [],
   "source": [
    "import json\n",
    "with open(\"nodes.json\", \"w\") as nodes_file:\n",
    "    json.dump(nodes, nodes_file, sort_keys=True, indent=4)"
   ]
  },
  {
   "cell_type": "code",
   "execution_count": 14,
   "metadata": {
    "collapsed": true
   },
   "outputs": [],
   "source": [
    "pr = PageRank(nodes)\n",
    "pr.calculate(20, report=False, report_every=10, rep_function=report)"
   ]
  },
  {
   "cell_type": "code",
   "execution_count": 15,
   "metadata": {
    "collapsed": true
   },
   "outputs": [],
   "source": [
    "with open(\"PageRankResults_round0.txt\", \"w\") as results:\n",
    "    sortedk = sorted(pr.pr.keys())\n",
    "    for key in sortedk:\n",
    "        results.write(key + \" \" + str(pr.pr[key]) + \"\\n\")"
   ]
  },
  {
   "cell_type": "code",
   "execution_count": 19,
   "metadata": {
    "scrolled": false
   },
   "outputs": [],
   "source": [
    "import pandas as pd\n",
    "\n",
    "duplicate_outlinks_values = []\n",
    "for k in nodes.keys():\n",
    "    settt = set(nodes[k])\n",
    "    duplicate_outlinks_values.append([\n",
    "        k,\n",
    "        len(settt),\n",
    "        len(nodes[k]),\n",
    "        len(nodes[k]) - len(settt)\n",
    "    ])\n",
    "dup_outlinks = pd.DataFrame(duplicate_outlinks_values)\n",
    "dup_outlinks.columns = [\"article\", \"unique\", \"complete\", \"diff\"]\n",
    "dup_outlinks.set_index(\"article\", inplace=True)"
   ]
  },
  {
   "cell_type": "code",
   "execution_count": 25,
   "metadata": {},
   "outputs": [
    {
     "data": {
      "text/html": [
       "<div>\n",
       "<style>\n",
       "    .dataframe thead tr:only-child th {\n",
       "        text-align: right;\n",
       "    }\n",
       "\n",
       "    .dataframe thead th {\n",
       "        text-align: left;\n",
       "    }\n",
       "\n",
       "    .dataframe tbody tr th {\n",
       "        vertical-align: top;\n",
       "    }\n",
       "</style>\n",
       "<table border=\"1\" class=\"dataframe\">\n",
       "  <thead>\n",
       "    <tr style=\"text-align: right;\">\n",
       "      <th></th>\n",
       "      <th>unique</th>\n",
       "      <th>complete</th>\n",
       "      <th>diff</th>\n",
       "    </tr>\n",
       "    <tr>\n",
       "      <th>article</th>\n",
       "      <th></th>\n",
       "      <th></th>\n",
       "      <th></th>\n",
       "    </tr>\n",
       "  </thead>\n",
       "  <tbody>\n",
       "    <tr>\n",
       "      <th>List_of_common_Indo-European_roots</th>\n",
       "      <td>73</td>\n",
       "      <td>6265</td>\n",
       "      <td>6192</td>\n",
       "    </tr>\n",
       "    <tr>\n",
       "      <th>Divizia_A_2004-05</th>\n",
       "      <td>571</td>\n",
       "      <td>5813</td>\n",
       "      <td>5242</td>\n",
       "    </tr>\n",
       "    <tr>\n",
       "      <th>List_of_films:_J-R</th>\n",
       "      <td>3196</td>\n",
       "      <td>5987</td>\n",
       "      <td>2791</td>\n",
       "    </tr>\n",
       "    <tr>\n",
       "      <th>List_of_sportspeople_by_nickname</th>\n",
       "      <td>1206</td>\n",
       "      <td>3412</td>\n",
       "      <td>2206</td>\n",
       "    </tr>\n",
       "    <tr>\n",
       "      <th>Conservative_Government_1979-1997</th>\n",
       "      <td>451</td>\n",
       "      <td>2452</td>\n",
       "      <td>2001</td>\n",
       "    </tr>\n",
       "  </tbody>\n",
       "</table>\n",
       "</div>"
      ],
      "text/plain": [
       "                                    unique  complete  diff\n",
       "article                                                   \n",
       "List_of_common_Indo-European_roots      73      6265  6192\n",
       "Divizia_A_2004-05                      571      5813  5242\n",
       "List_of_films:_J-R                    3196      5987  2791\n",
       "List_of_sportspeople_by_nickname      1206      3412  2206\n",
       "Conservative_Government_1979-1997      451      2452  2001"
      ]
     },
     "execution_count": 25,
     "metadata": {},
     "output_type": "execute_result"
    }
   ],
   "source": [
    "dup_outlinks = dup_outlinks.sort_values(by='diff', ascending=False)\n",
    "dup_outlinks.head()"
   ]
  },
  {
   "cell_type": "code",
   "execution_count": null,
   "metadata": {
    "collapsed": true
   },
   "outputs": [],
   "source": []
  }
 ],
 "metadata": {
  "kernelspec": {
   "display_name": "Python 3",
   "language": "python",
   "name": "python3"
  },
  "language_info": {
   "codemirror_mode": {
    "name": "ipython",
    "version": 3
   },
   "file_extension": ".py",
   "mimetype": "text/x-python",
   "name": "python",
   "nbconvert_exporter": "python",
   "pygments_lexer": "ipython3",
   "version": "3.6.1"
  }
 },
 "nbformat": 4,
 "nbformat_minor": 2
}
