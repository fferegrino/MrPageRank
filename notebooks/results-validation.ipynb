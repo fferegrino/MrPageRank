{
 "cells": [
  {
   "cell_type": "code",
   "execution_count": 65,
   "metadata": {
    "collapsed": true
   },
   "outputs": [],
   "source": [
    "import pandas as pd\n",
    "import numpy as np\n",
    "from glob import glob as g\n",
    "import matplotlib.pyplot as plt"
   ]
  },
  {
   "cell_type": "code",
   "execution_count": 66,
   "metadata": {},
   "outputs": [],
   "source": [
    "PageRankResults_list = []\n",
    "names = []\n",
    "for results_file in sorted(g(\"PageRankResults_round*.txt\")):\n",
    "    name = \"pr_\" + results_file[len(\"PageRankResults_\"):-4]\n",
    "    PageRankResults = pd.read_table(results_file, sep=\" \", \n",
    "                                    quoting=3, na_values='', na_filter=False,\n",
    "                                    header=None, names=[\"article\", name])\n",
    "    PageRankResults.set_index(\"article\", inplace=True)\n",
    "    PageRankResults_list.append(PageRankResults)"
   ]
  },
  {
   "cell_type": "code",
   "execution_count": 67,
   "metadata": {},
   "outputs": [
    {
     "data": {
      "text/html": [
       "<div>\n",
       "<style>\n",
       "    .dataframe thead tr:only-child th {\n",
       "        text-align: right;\n",
       "    }\n",
       "\n",
       "    .dataframe thead th {\n",
       "        text-align: left;\n",
       "    }\n",
       "\n",
       "    .dataframe tbody tr th {\n",
       "        vertical-align: top;\n",
       "    }\n",
       "</style>\n",
       "<table border=\"1\" class=\"dataframe\">\n",
       "  <thead>\n",
       "    <tr style=\"text-align: right;\">\n",
       "      <th></th>\n",
       "      <th>pr_round0</th>\n",
       "      <th>pr_round1</th>\n",
       "      <th>pr_round2</th>\n",
       "      <th>pr_round3</th>\n",
       "    </tr>\n",
       "  </thead>\n",
       "  <tbody>\n",
       "    <tr>\n",
       "      <th>count</th>\n",
       "      <td>903556.000000</td>\n",
       "      <td>903556.000000</td>\n",
       "      <td>903556.000000</td>\n",
       "      <td>903556.000000</td>\n",
       "    </tr>\n",
       "    <tr>\n",
       "      <th>mean</th>\n",
       "      <td>0.155969</td>\n",
       "      <td>0.155968</td>\n",
       "      <td>0.155968</td>\n",
       "      <td>0.155969</td>\n",
       "    </tr>\n",
       "    <tr>\n",
       "      <th>std</th>\n",
       "      <td>0.067821</td>\n",
       "      <td>0.067881</td>\n",
       "      <td>0.067881</td>\n",
       "      <td>0.067820</td>\n",
       "    </tr>\n",
       "    <tr>\n",
       "      <th>min</th>\n",
       "      <td>0.150000</td>\n",
       "      <td>0.150000</td>\n",
       "      <td>0.150000</td>\n",
       "      <td>0.150000</td>\n",
       "    </tr>\n",
       "    <tr>\n",
       "      <th>25%</th>\n",
       "      <td>0.150465</td>\n",
       "      <td>0.150466</td>\n",
       "      <td>0.150466</td>\n",
       "      <td>0.150465</td>\n",
       "    </tr>\n",
       "    <tr>\n",
       "      <th>50%</th>\n",
       "      <td>0.151263</td>\n",
       "      <td>0.151263</td>\n",
       "      <td>0.151263</td>\n",
       "      <td>0.151263</td>\n",
       "    </tr>\n",
       "    <tr>\n",
       "      <th>75%</th>\n",
       "      <td>0.153601</td>\n",
       "      <td>0.153602</td>\n",
       "      <td>0.153602</td>\n",
       "      <td>0.153601</td>\n",
       "    </tr>\n",
       "    <tr>\n",
       "      <th>max</th>\n",
       "      <td>25.471842</td>\n",
       "      <td>25.487890</td>\n",
       "      <td>25.487890</td>\n",
       "      <td>25.471392</td>\n",
       "    </tr>\n",
       "  </tbody>\n",
       "</table>\n",
       "</div>"
      ],
      "text/plain": [
       "           pr_round0      pr_round1      pr_round2      pr_round3\n",
       "count  903556.000000  903556.000000  903556.000000  903556.000000\n",
       "mean        0.155969       0.155968       0.155968       0.155969\n",
       "std         0.067821       0.067881       0.067881       0.067820\n",
       "min         0.150000       0.150000       0.150000       0.150000\n",
       "25%         0.150465       0.150466       0.150466       0.150465\n",
       "50%         0.151263       0.151263       0.151263       0.151263\n",
       "75%         0.153601       0.153602       0.153602       0.153601\n",
       "max        25.471842      25.487890      25.487890      25.471392"
      ]
     },
     "execution_count": 67,
     "metadata": {},
     "output_type": "execute_result"
    }
   ],
   "source": [
    "PageRankResults = PageRankResults_list[0]\n",
    "for df_ in PageRankResults_list[1:]:\n",
    "    PageRankResults = PageRankResults.join(df_, how='outer')\n",
    "\n",
    "PageRankResults.describe()"
   ]
  },
  {
   "cell_type": "code",
   "execution_count": 68,
   "metadata": {},
   "outputs": [
    {
     "data": {
      "text/html": [
       "<div>\n",
       "<style>\n",
       "    .dataframe thead tr:only-child th {\n",
       "        text-align: right;\n",
       "    }\n",
       "\n",
       "    .dataframe thead th {\n",
       "        text-align: left;\n",
       "    }\n",
       "\n",
       "    .dataframe tbody tr th {\n",
       "        vertical-align: top;\n",
       "    }\n",
       "</style>\n",
       "<table border=\"1\" class=\"dataframe\">\n",
       "  <thead>\n",
       "    <tr style=\"text-align: right;\">\n",
       "      <th></th>\n",
       "      <th>pr_round0</th>\n",
       "      <th>pr_round1</th>\n",
       "      <th>pr_round2</th>\n",
       "      <th>pr_round3</th>\n",
       "    </tr>\n",
       "    <tr>\n",
       "      <th>article</th>\n",
       "      <th></th>\n",
       "      <th></th>\n",
       "      <th></th>\n",
       "      <th></th>\n",
       "    </tr>\n",
       "  </thead>\n",
       "  <tbody>\n",
       "  </tbody>\n",
       "</table>\n",
       "</div>"
      ],
      "text/plain": [
       "Empty DataFrame\n",
       "Columns: [pr_round0, pr_round1, pr_round2, pr_round3]\n",
       "Index: []"
      ]
     },
     "execution_count": 68,
     "metadata": {},
     "output_type": "execute_result"
    }
   ],
   "source": [
    "null_values = PageRankResults[PageRankResults[\"pr_round0\"].isnull() |\n",
    "                              PageRankResults[\"pr_round1\"].isnull() |\n",
    "                              PageRankResults[\"pr_round2\"].isnull() |\n",
    "                              PageRankResults[\"pr_round3\"].isnull()]\n",
    "null_values.head()"
   ]
  },
  {
   "cell_type": "code",
   "execution_count": 69,
   "metadata": {},
   "outputs": [
    {
     "data": {
      "text/plain": [
       "pr_round0    0.150058\n",
       "pr_round1    0.150058\n",
       "pr_round2    0.150058\n",
       "pr_round3    0.150058\n",
       "Name: Dejiko_No_Maibura__（でじこ　の　まいブラ）, dtype: float64"
      ]
     },
     "execution_count": 69,
     "metadata": {},
     "output_type": "execute_result"
    }
   ],
   "source": [
    "PageRankResults.describe()\n",
    "PageRankResults.loc[\"Dejiko_No_Maibura__（でじこ　の　まいブラ）\"]"
   ]
  },
  {
   "cell_type": "code",
   "execution_count": 70,
   "metadata": {},
   "outputs": [
    {
     "name": "stdout",
     "output_type": "stream",
     "text": [
      "<class 'pandas.core.frame.DataFrame'>\n",
      "Index: 903556 entries, !!! to 애국가,_pronounced_as_Aegug-ga\n",
      "Data columns (total 4 columns):\n",
      "pr_round0    903556 non-null float64\n",
      "pr_round1    903556 non-null float64\n",
      "pr_round2    903556 non-null float64\n",
      "pr_round3    903556 non-null float64\n",
      "dtypes: float64(4)\n",
      "memory usage: 74.5+ MB\n",
      "None\n"
     ]
    }
   ],
   "source": [
    "print(PageRankResults.info())"
   ]
  },
  {
   "cell_type": "code",
   "execution_count": 71,
   "metadata": {
    "scrolled": true
   },
   "outputs": [
    {
     "name": "stdout",
     "output_type": "stream",
     "text": [
      "Empty DataFrame\n",
      "Columns: [pr_round0, pr_round1, pr_round2, pr_round3]\n",
      "Index: []\n"
     ]
    }
   ],
   "source": [
    "duplicated = PageRankResults[PageRankResults.index.duplicated()]\n",
    "len(duplicated)\n",
    "print(duplicated)"
   ]
  }
 ],
 "metadata": {
  "kernelspec": {
   "display_name": "Python 3",
   "language": "python",
   "name": "python3"
  },
  "language_info": {
   "codemirror_mode": {
    "name": "ipython",
    "version": 3
   },
   "file_extension": ".py",
   "mimetype": "text/x-python",
   "name": "python",
   "nbconvert_exporter": "python",
   "pygments_lexer": "ipython3",
   "version": "3.6.1"
  }
 },
 "nbformat": 4,
 "nbformat_minor": 2
}
